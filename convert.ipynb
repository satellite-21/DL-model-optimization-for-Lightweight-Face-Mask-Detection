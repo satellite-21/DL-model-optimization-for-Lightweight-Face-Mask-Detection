{
 "cells": [
  {
   "cell_type": "code",
   "execution_count": 1,
   "metadata": {},
   "outputs": [],
   "source": [
    "import cv2\n",
    "val_dir = 'Face Mask Dataset/Validation'"
   ]
  },
  {
   "cell_type": "code",
   "execution_count": 2,
   "metadata": {},
   "outputs": [],
   "source": [
    "import glob\n",
    "import os,sys\n",
    "import numpy as np\n",
    "import tensorflow as tf\n",
    "import time\n",
    "from PIL import Image\n",
    "import keras\n",
    "\n",
    "norm_type=\"n1to1\"\n",
    "quant_dir=\"Face Mask Dataset/Validation\"\n",
    "w=128\n",
    "h=128\n",
    "def representative_data_gen():\n",
    "    files = glob.glob(quant_dir+'/**',recursive=True)\n",
    "    valid_files = []\n",
    "    valid_format = [\".jpg\", \".jpeg\", \".png\", \".bmp\", \".ppm\", \".pgm\"]\n",
    "    for name in files:\n",
    "        ext = os.path.splitext(name)[1].lower()\n",
    "        if ext not in valid_format:\n",
    "            continue\n",
    "        valid_files.append(os.path.join(quant_dir, name))\n",
    "    if len(valid_files) == 0:\n",
    "        raise Exception(\"No valid files in quant_input dir {}, support format{}: \".format(quant_dir, valid_format))\n",
    "    print(str(len(valid_files))+\"pics\")\n",
    "    for path in valid_files:\n",
    "        img = Image.open(path)\n",
    "        img = img.resize((w,h))\n",
    "        img = np.array(img).astype(np.float32)\n",
    "        shape = img.shape\n",
    "        if len(shape) == 2:\n",
    "            continue \n",
    "            shape = (1, shape[0], shape[1], 1)\n",
    "        else:\n",
    "            if(shape[2]!=3):\n",
    "                continue\n",
    "            shape = (1, shape[0], shape[1], shape[2])\n",
    "        img = img.reshape(shape)\n",
    "        if norm_type is not None:\n",
    "            if norm_type == \"0to1\":\n",
    "                img = img/255.0\n",
    "            elif norm_type == \"n1to1\":\n",
    "                img = (img-128)/128\n",
    "            else:\n",
    "                raise Exception(\"Unsupported norm_type: {}\".format(norm_type))\n",
    "#         print(img.shape)\n",
    "#         print(path)\n",
    "        yield [img]"
   ]
  },
  {
   "cell_type": "code",
   "execution_count": null,
   "metadata": {},
   "outputs": [],
   "source": [
    "model = keras.models.load_model(\"specify model path.h5\")"
   ]
  },
  {
   "cell_type": "code",
   "execution_count": null,
   "metadata": {},
   "outputs": [],
   "source": [
    "tflite_converter = tf.lite.TFLiteConverter.from_keras_model(model)\n",
    "tflite_converter.optimizations = [tf.lite.Optimize.DEFAULT]\n",
    "tflite_converter.target_spec.supported_ops = [tf.lite.OpsSet.TFLITE_BUILTINS_INT8]\n",
    "# Provide a representative dataset to ensure we quantize correctly.\n",
    "tflite_converter.representative_dataset = representative_data_gen\n",
    "tflite_converter.inference_input_type = tf.float32\n",
    "tflite_converter.inference_output_type = tf.float32\n",
    "tflite_model = tflite_converter.convert()"
   ]
  },
  {
   "cell_type": "code",
   "execution_count": null,
   "metadata": {},
   "outputs": [],
   "source": [
    "interpreter = tf.lite.Interpreter(model_path = \"specify model ouput director.tflite\")\n",
    "input_details = interpreter.get_input_details()\n",
    "output_details = interpreter.get_output_details()\n",
    "print(\"Input Shape:\", input_details[0]['shape'])\n",
    "print(\"Input Type:\", input_details[0]['dtype'])\n",
    "print(\"Output Shape:\", output_details[0]['shape'])\n",
    "print(\"Output Type:\", output_details[0]['dtype'])"
   ]
  },
  {
   "cell_type": "code",
   "execution_count": null,
   "metadata": {},
   "outputs": [],
   "source": [
    "def get_data(dir):\n",
    "    images = []\n",
    "    for root, dirs, files in os.walk(dir):\n",
    "        for filename in files:\n",
    "            path = os.path.join(root, filename)\n",
    "            img = cv2.imread(path, cv2.IMREAD_COLOR)\n",
    "            img = cv2.cvtColor(img, cv2.COLOR_BGR2RGB)\n",
    "            img = cv2.resize(img, (128, 128))\n",
    "            img = img.astype(np.float32)\n",
    "            img = img / 255.\n",
    "\n",
    "            images.append(img)\n",
    "    return np.array(images)\n",
    "images = get_data(val_dir)"
   ]
  },
  {
   "cell_type": "code",
   "execution_count": null,
   "metadata": {},
   "outputs": [],
   "source": [
    "interpreter.resize_tensor_input(input_details[0]['index'], (len(images), 128, 128, 3))\n",
    "interpreter.resize_tensor_input(output_details[0]['index'], (len(images), 2))\n",
    "interpreter.allocate_tensors()\n",
    "input_details = interpreter.get_input_details()\n",
    "output_details = interpreter.get_output_details()\n",
    "print(\"Input Shape:\", input_details[0]['shape'])\n",
    "print(\"Input Type:\", input_details[0]['dtype'])\n",
    "print(\"Output Shape:\", output_details[0]['shape'])\n",
    "print(\"Output Type:\", output_details[0]['dtype'])"
   ]
  },
  {
   "cell_type": "code",
   "execution_count": null,
   "metadata": {},
   "outputs": [],
   "source": [
    "interpreter.set_tensor(input_details[0]['index'], images)\n",
    "interpreter.invoke()\n",
    "tflite_model_predictions = interpreter.get_tensor(output_details[0]['index'])\n",
    "print(\"Prediction results shape:\", tflite_model_predictions.shape)\n",
    "prediction_classes = np.argmin(tflite_model_predictions, axis=1)"
   ]
  }
 ],
 "metadata": {
  "kernelspec": {
   "display_name": "embed",
   "language": "python",
   "name": "python3"
  },
  "language_info": {
   "codemirror_mode": {
    "name": "ipython",
    "version": 3
   },
   "file_extension": ".py",
   "mimetype": "text/x-python",
   "name": "python",
   "nbconvert_exporter": "python",
   "pygments_lexer": "ipython3",
   "version": "3.10.10"
  },
  "orig_nbformat": 4
 },
 "nbformat": 4,
 "nbformat_minor": 2
}
